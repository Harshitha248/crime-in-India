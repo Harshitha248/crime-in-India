{
 "cells": [
  {
   "cell_type": "code",
   "execution_count": 19,
   "id": "offensive-supervision",
   "metadata": {},
   "outputs": [],
   "source": [
    "import numpy as np # linear algebra\n",
    "import pandas as pd # data processing, CSV file I/O (e.g. pd.read_csv)\n",
    "import seaborn as sns\n",
    "import matplotlib.pyplot as plt\n",
    "import  warnings\n",
    "warnings.filterwarnings('ignore')\n"
   ]
  },
  {
   "cell_type": "code",
   "execution_count": 6,
   "id": "advance-leone",
   "metadata": {},
   "outputs": [
    {
     "data": {
      "text/html": [
       "<div>\n",
       "<style scoped>\n",
       "    .dataframe tbody tr th:only-of-type {\n",
       "        vertical-align: middle;\n",
       "    }\n",
       "\n",
       "    .dataframe tbody tr th {\n",
       "        vertical-align: top;\n",
       "    }\n",
       "\n",
       "    .dataframe thead th {\n",
       "        text-align: right;\n",
       "    }\n",
       "</style>\n",
       "<table border=\"1\" class=\"dataframe\">\n",
       "  <thead>\n",
       "    <tr style=\"text-align: right;\">\n",
       "      <th></th>\n",
       "      <th>Area_Name</th>\n",
       "      <th>Year</th>\n",
       "      <th>Group_Name</th>\n",
       "      <th>Sub_Group_Name</th>\n",
       "      <th>Victims_Above_50_Yrs</th>\n",
       "      <th>Victims_Total</th>\n",
       "      <th>Victims_Upto_10_15_Yrs</th>\n",
       "      <th>Victims_Upto_10_Yrs</th>\n",
       "      <th>Victims_Upto_15_18_Yrs</th>\n",
       "      <th>Victims_Upto_18_30_Yrs</th>\n",
       "      <th>Victims_Upto_30_50_Yrs</th>\n",
       "    </tr>\n",
       "  </thead>\n",
       "  <tbody>\n",
       "    <tr>\n",
       "      <th>0</th>\n",
       "      <td>Andaman &amp; Nicobar Islands</td>\n",
       "      <td>2001</td>\n",
       "      <td>Murder - Female Victims</td>\n",
       "      <td>2. Female Victims</td>\n",
       "      <td>NaN</td>\n",
       "      <td>6</td>\n",
       "      <td>NaN</td>\n",
       "      <td>NaN</td>\n",
       "      <td>NaN</td>\n",
       "      <td>4.0</td>\n",
       "      <td>2.0</td>\n",
       "    </tr>\n",
       "    <tr>\n",
       "      <th>1</th>\n",
       "      <td>Andhra Pradesh</td>\n",
       "      <td>2001</td>\n",
       "      <td>Murder - Female Victims</td>\n",
       "      <td>2. Female Victims</td>\n",
       "      <td>67.0</td>\n",
       "      <td>607</td>\n",
       "      <td>15.0</td>\n",
       "      <td>38.0</td>\n",
       "      <td>43.0</td>\n",
       "      <td>269.0</td>\n",
       "      <td>175.0</td>\n",
       "    </tr>\n",
       "    <tr>\n",
       "      <th>2</th>\n",
       "      <td>Arunachal Pradesh</td>\n",
       "      <td>2001</td>\n",
       "      <td>Murder - Female Victims</td>\n",
       "      <td>2. Female Victims</td>\n",
       "      <td>2.0</td>\n",
       "      <td>16</td>\n",
       "      <td>0.0</td>\n",
       "      <td>0.0</td>\n",
       "      <td>0.0</td>\n",
       "      <td>10.0</td>\n",
       "      <td>4.0</td>\n",
       "    </tr>\n",
       "    <tr>\n",
       "      <th>3</th>\n",
       "      <td>Assam</td>\n",
       "      <td>2001</td>\n",
       "      <td>Murder - Female Victims</td>\n",
       "      <td>2. Female Victims</td>\n",
       "      <td>11.0</td>\n",
       "      <td>128</td>\n",
       "      <td>8.0</td>\n",
       "      <td>4.0</td>\n",
       "      <td>23.0</td>\n",
       "      <td>45.0</td>\n",
       "      <td>37.0</td>\n",
       "    </tr>\n",
       "    <tr>\n",
       "      <th>4</th>\n",
       "      <td>Bihar</td>\n",
       "      <td>2001</td>\n",
       "      <td>Murder - Female Victims</td>\n",
       "      <td>2. Female Victims</td>\n",
       "      <td>12.0</td>\n",
       "      <td>366</td>\n",
       "      <td>0.0</td>\n",
       "      <td>0.0</td>\n",
       "      <td>40.0</td>\n",
       "      <td>191.0</td>\n",
       "      <td>123.0</td>\n",
       "    </tr>\n",
       "  </tbody>\n",
       "</table>\n",
       "</div>"
      ],
      "text/plain": [
       "                   Area_Name  Year               Group_Name  \\\n",
       "0  Andaman & Nicobar Islands  2001  Murder - Female Victims   \n",
       "1             Andhra Pradesh  2001  Murder - Female Victims   \n",
       "2          Arunachal Pradesh  2001  Murder - Female Victims   \n",
       "3                      Assam  2001  Murder - Female Victims   \n",
       "4                      Bihar  2001  Murder - Female Victims   \n",
       "\n",
       "      Sub_Group_Name  Victims_Above_50_Yrs  Victims_Total  \\\n",
       "0  2. Female Victims                   NaN              6   \n",
       "1  2. Female Victims                  67.0            607   \n",
       "2  2. Female Victims                   2.0             16   \n",
       "3  2. Female Victims                  11.0            128   \n",
       "4  2. Female Victims                  12.0            366   \n",
       "\n",
       "   Victims_Upto_10_15_Yrs  Victims_Upto_10_Yrs  Victims_Upto_15_18_Yrs  \\\n",
       "0                     NaN                  NaN                     NaN   \n",
       "1                    15.0                 38.0                    43.0   \n",
       "2                     0.0                  0.0                     0.0   \n",
       "3                     8.0                  4.0                    23.0   \n",
       "4                     0.0                  0.0                    40.0   \n",
       "\n",
       "   Victims_Upto_18_30_Yrs  Victims_Upto_30_50_Yrs  \n",
       "0                     4.0                     2.0  \n",
       "1                   269.0                   175.0  \n",
       "2                    10.0                     4.0  \n",
       "3                    45.0                    37.0  \n",
       "4                   191.0                   123.0  "
      ]
     },
     "execution_count": 6,
     "metadata": {},
     "output_type": "execute_result"
    }
   ],
   "source": [
    "vic_murder_df = pd.read_csv(\"Murders.csv\")\n",
    "#Exploring first few rows of 'Victims of Murder' dataset\n",
    "vic_murder_df.head()"
   ]
  },
  {
   "cell_type": "code",
   "execution_count": 32,
   "id": "desirable-thinking",
   "metadata": {},
   "outputs": [
    {
     "name": "stdout",
     "output_type": "stream",
     "text": [
      "<class 'pandas.core.frame.DataFrame'>\n",
      "RangeIndex: 1018 entries, 0 to 1017\n",
      "Data columns (total 11 columns):\n",
      " #   Column                  Non-Null Count  Dtype  \n",
      "---  ------                  --------------  -----  \n",
      " 0   Area_Name               1018 non-null   object \n",
      " 1   Year                    1018 non-null   int64  \n",
      " 2   Group_Name              1018 non-null   object \n",
      " 3   Sub_Group_Name          1018 non-null   object \n",
      " 4   Victims_Above_50_Yrs    962 non-null    float64\n",
      " 5   Victims_Total           1018 non-null   int64  \n",
      " 6   Victims_Upto_10_15_Yrs  876 non-null    float64\n",
      " 7   Victims_Upto_10_Yrs     900 non-null    float64\n",
      " 8   Victims_Upto_15_18_Yrs  888 non-null    float64\n",
      " 9   Victims_Upto_18_30_Yrs  1009 non-null   float64\n",
      " 10  Victims_Upto_30_50_Yrs  1007 non-null   float64\n",
      "dtypes: float64(6), int64(2), object(3)\n",
      "memory usage: 87.6+ KB\n"
     ]
    }
   ],
   "source": [
    "vic_murder_df.info()"
   ]
  },
  {
   "cell_type": "code",
   "execution_count": 33,
   "id": "scientific-locking",
   "metadata": {},
   "outputs": [
    {
     "data": {
      "text/html": [
       "<div>\n",
       "<style scoped>\n",
       "    .dataframe tbody tr th:only-of-type {\n",
       "        vertical-align: middle;\n",
       "    }\n",
       "\n",
       "    .dataframe tbody tr th {\n",
       "        vertical-align: top;\n",
       "    }\n",
       "\n",
       "    .dataframe thead th {\n",
       "        text-align: right;\n",
       "    }\n",
       "</style>\n",
       "<table border=\"1\" class=\"dataframe\">\n",
       "  <thead>\n",
       "    <tr style=\"text-align: right;\">\n",
       "      <th></th>\n",
       "      <th>Year</th>\n",
       "      <th>Victims_Above_50_Yrs</th>\n",
       "      <th>Victims_Total</th>\n",
       "      <th>Victims_Upto_10_15_Yrs</th>\n",
       "      <th>Victims_Upto_10_Yrs</th>\n",
       "      <th>Victims_Upto_15_18_Yrs</th>\n",
       "      <th>Victims_Upto_18_30_Yrs</th>\n",
       "      <th>Victims_Upto_30_50_Yrs</th>\n",
       "    </tr>\n",
       "  </thead>\n",
       "  <tbody>\n",
       "    <tr>\n",
       "      <th>count</th>\n",
       "      <td>1018.000000</td>\n",
       "      <td>962.000000</td>\n",
       "      <td>1018.000000</td>\n",
       "      <td>876.000000</td>\n",
       "      <td>900.000000</td>\n",
       "      <td>888.000000</td>\n",
       "      <td>1009.000000</td>\n",
       "      <td>1007.000000</td>\n",
       "    </tr>\n",
       "    <tr>\n",
       "      <th>mean</th>\n",
       "      <td>2005.512770</td>\n",
       "      <td>67.559252</td>\n",
       "      <td>683.406680</td>\n",
       "      <td>9.536530</td>\n",
       "      <td>14.726667</td>\n",
       "      <td>17.326577</td>\n",
       "      <td>314.739346</td>\n",
       "      <td>274.230387</td>\n",
       "    </tr>\n",
       "    <tr>\n",
       "      <th>std</th>\n",
       "      <td>2.866127</td>\n",
       "      <td>100.650347</td>\n",
       "      <td>1015.595667</td>\n",
       "      <td>21.417212</td>\n",
       "      <td>25.355027</td>\n",
       "      <td>39.497253</td>\n",
       "      <td>483.745420</td>\n",
       "      <td>396.206952</td>\n",
       "    </tr>\n",
       "    <tr>\n",
       "      <th>min</th>\n",
       "      <td>2001.000000</td>\n",
       "      <td>0.000000</td>\n",
       "      <td>0.000000</td>\n",
       "      <td>0.000000</td>\n",
       "      <td>0.000000</td>\n",
       "      <td>0.000000</td>\n",
       "      <td>0.000000</td>\n",
       "      <td>0.000000</td>\n",
       "    </tr>\n",
       "    <tr>\n",
       "      <th>25%</th>\n",
       "      <td>2003.000000</td>\n",
       "      <td>3.000000</td>\n",
       "      <td>31.000000</td>\n",
       "      <td>0.000000</td>\n",
       "      <td>1.000000</td>\n",
       "      <td>0.000000</td>\n",
       "      <td>13.000000</td>\n",
       "      <td>13.000000</td>\n",
       "    </tr>\n",
       "    <tr>\n",
       "      <th>50%</th>\n",
       "      <td>2006.000000</td>\n",
       "      <td>25.000000</td>\n",
       "      <td>258.000000</td>\n",
       "      <td>2.000000</td>\n",
       "      <td>3.000000</td>\n",
       "      <td>3.000000</td>\n",
       "      <td>116.000000</td>\n",
       "      <td>102.000000</td>\n",
       "    </tr>\n",
       "    <tr>\n",
       "      <th>75%</th>\n",
       "      <td>2008.000000</td>\n",
       "      <td>86.000000</td>\n",
       "      <td>1011.750000</td>\n",
       "      <td>10.000000</td>\n",
       "      <td>18.000000</td>\n",
       "      <td>14.000000</td>\n",
       "      <td>421.000000</td>\n",
       "      <td>416.500000</td>\n",
       "    </tr>\n",
       "    <tr>\n",
       "      <th>max</th>\n",
       "      <td>2010.000000</td>\n",
       "      <td>824.000000</td>\n",
       "      <td>8180.000000</td>\n",
       "      <td>218.000000</td>\n",
       "      <td>189.000000</td>\n",
       "      <td>347.000000</td>\n",
       "      <td>3724.000000</td>\n",
       "      <td>3143.000000</td>\n",
       "    </tr>\n",
       "  </tbody>\n",
       "</table>\n",
       "</div>"
      ],
      "text/plain": [
       "              Year  Victims_Above_50_Yrs  Victims_Total  \\\n",
       "count  1018.000000            962.000000    1018.000000   \n",
       "mean   2005.512770             67.559252     683.406680   \n",
       "std       2.866127            100.650347    1015.595667   \n",
       "min    2001.000000              0.000000       0.000000   \n",
       "25%    2003.000000              3.000000      31.000000   \n",
       "50%    2006.000000             25.000000     258.000000   \n",
       "75%    2008.000000             86.000000    1011.750000   \n",
       "max    2010.000000            824.000000    8180.000000   \n",
       "\n",
       "       Victims_Upto_10_15_Yrs  Victims_Upto_10_Yrs  Victims_Upto_15_18_Yrs  \\\n",
       "count              876.000000           900.000000              888.000000   \n",
       "mean                 9.536530            14.726667               17.326577   \n",
       "std                 21.417212            25.355027               39.497253   \n",
       "min                  0.000000             0.000000                0.000000   \n",
       "25%                  0.000000             1.000000                0.000000   \n",
       "50%                  2.000000             3.000000                3.000000   \n",
       "75%                 10.000000            18.000000               14.000000   \n",
       "max                218.000000           189.000000              347.000000   \n",
       "\n",
       "       Victims_Upto_18_30_Yrs  Victims_Upto_30_50_Yrs  \n",
       "count             1009.000000             1007.000000  \n",
       "mean               314.739346              274.230387  \n",
       "std                483.745420              396.206952  \n",
       "min                  0.000000                0.000000  \n",
       "25%                 13.000000               13.000000  \n",
       "50%                116.000000              102.000000  \n",
       "75%                421.000000              416.500000  \n",
       "max               3724.000000             3143.000000  "
      ]
     },
     "execution_count": 33,
     "metadata": {},
     "output_type": "execute_result"
    }
   ],
   "source": [
    "vic_murder_df.describe()"
   ]
  },
  {
   "cell_type": "code",
   "execution_count": 34,
   "id": "revolutionary-income",
   "metadata": {},
   "outputs": [
    {
     "data": {
      "text/html": [
       "<div>\n",
       "<style scoped>\n",
       "    .dataframe tbody tr th:only-of-type {\n",
       "        vertical-align: middle;\n",
       "    }\n",
       "\n",
       "    .dataframe tbody tr th {\n",
       "        vertical-align: top;\n",
       "    }\n",
       "\n",
       "    .dataframe thead th {\n",
       "        text-align: right;\n",
       "    }\n",
       "</style>\n",
       "<table border=\"1\" class=\"dataframe\">\n",
       "  <thead>\n",
       "    <tr style=\"text-align: right;\">\n",
       "      <th></th>\n",
       "      <th>Area_Name</th>\n",
       "      <th>Year</th>\n",
       "      <th>Group_Name</th>\n",
       "      <th>Sub_Group_Name</th>\n",
       "      <th>Victims_Above_50_Yrs</th>\n",
       "      <th>Victims_Total</th>\n",
       "      <th>Victims_Upto_10_15_Yrs</th>\n",
       "      <th>Victims_Upto_10_Yrs</th>\n",
       "      <th>Victims_Upto_15_18_Yrs</th>\n",
       "      <th>Victims_Upto_18_30_Yrs</th>\n",
       "      <th>Victims_Upto_30_50_Yrs</th>\n",
       "    </tr>\n",
       "  </thead>\n",
       "  <tbody>\n",
       "    <tr>\n",
       "      <th>0</th>\n",
       "      <td>False</td>\n",
       "      <td>False</td>\n",
       "      <td>False</td>\n",
       "      <td>False</td>\n",
       "      <td>True</td>\n",
       "      <td>False</td>\n",
       "      <td>True</td>\n",
       "      <td>True</td>\n",
       "      <td>True</td>\n",
       "      <td>False</td>\n",
       "      <td>False</td>\n",
       "    </tr>\n",
       "    <tr>\n",
       "      <th>1</th>\n",
       "      <td>False</td>\n",
       "      <td>False</td>\n",
       "      <td>False</td>\n",
       "      <td>False</td>\n",
       "      <td>False</td>\n",
       "      <td>False</td>\n",
       "      <td>False</td>\n",
       "      <td>False</td>\n",
       "      <td>False</td>\n",
       "      <td>False</td>\n",
       "      <td>False</td>\n",
       "    </tr>\n",
       "    <tr>\n",
       "      <th>2</th>\n",
       "      <td>False</td>\n",
       "      <td>False</td>\n",
       "      <td>False</td>\n",
       "      <td>False</td>\n",
       "      <td>False</td>\n",
       "      <td>False</td>\n",
       "      <td>False</td>\n",
       "      <td>False</td>\n",
       "      <td>False</td>\n",
       "      <td>False</td>\n",
       "      <td>False</td>\n",
       "    </tr>\n",
       "    <tr>\n",
       "      <th>3</th>\n",
       "      <td>False</td>\n",
       "      <td>False</td>\n",
       "      <td>False</td>\n",
       "      <td>False</td>\n",
       "      <td>False</td>\n",
       "      <td>False</td>\n",
       "      <td>False</td>\n",
       "      <td>False</td>\n",
       "      <td>False</td>\n",
       "      <td>False</td>\n",
       "      <td>False</td>\n",
       "    </tr>\n",
       "    <tr>\n",
       "      <th>4</th>\n",
       "      <td>False</td>\n",
       "      <td>False</td>\n",
       "      <td>False</td>\n",
       "      <td>False</td>\n",
       "      <td>False</td>\n",
       "      <td>False</td>\n",
       "      <td>False</td>\n",
       "      <td>False</td>\n",
       "      <td>False</td>\n",
       "      <td>False</td>\n",
       "      <td>False</td>\n",
       "    </tr>\n",
       "    <tr>\n",
       "      <th>...</th>\n",
       "      <td>...</td>\n",
       "      <td>...</td>\n",
       "      <td>...</td>\n",
       "      <td>...</td>\n",
       "      <td>...</td>\n",
       "      <td>...</td>\n",
       "      <td>...</td>\n",
       "      <td>...</td>\n",
       "      <td>...</td>\n",
       "      <td>...</td>\n",
       "      <td>...</td>\n",
       "    </tr>\n",
       "    <tr>\n",
       "      <th>1013</th>\n",
       "      <td>False</td>\n",
       "      <td>False</td>\n",
       "      <td>False</td>\n",
       "      <td>False</td>\n",
       "      <td>False</td>\n",
       "      <td>False</td>\n",
       "      <td>False</td>\n",
       "      <td>False</td>\n",
       "      <td>False</td>\n",
       "      <td>False</td>\n",
       "      <td>False</td>\n",
       "    </tr>\n",
       "    <tr>\n",
       "      <th>1014</th>\n",
       "      <td>False</td>\n",
       "      <td>False</td>\n",
       "      <td>False</td>\n",
       "      <td>False</td>\n",
       "      <td>False</td>\n",
       "      <td>False</td>\n",
       "      <td>False</td>\n",
       "      <td>False</td>\n",
       "      <td>False</td>\n",
       "      <td>False</td>\n",
       "      <td>False</td>\n",
       "    </tr>\n",
       "    <tr>\n",
       "      <th>1015</th>\n",
       "      <td>False</td>\n",
       "      <td>False</td>\n",
       "      <td>False</td>\n",
       "      <td>False</td>\n",
       "      <td>False</td>\n",
       "      <td>False</td>\n",
       "      <td>False</td>\n",
       "      <td>False</td>\n",
       "      <td>False</td>\n",
       "      <td>False</td>\n",
       "      <td>False</td>\n",
       "    </tr>\n",
       "    <tr>\n",
       "      <th>1016</th>\n",
       "      <td>False</td>\n",
       "      <td>False</td>\n",
       "      <td>False</td>\n",
       "      <td>False</td>\n",
       "      <td>False</td>\n",
       "      <td>False</td>\n",
       "      <td>False</td>\n",
       "      <td>True</td>\n",
       "      <td>False</td>\n",
       "      <td>False</td>\n",
       "      <td>False</td>\n",
       "    </tr>\n",
       "    <tr>\n",
       "      <th>1017</th>\n",
       "      <td>False</td>\n",
       "      <td>False</td>\n",
       "      <td>False</td>\n",
       "      <td>False</td>\n",
       "      <td>False</td>\n",
       "      <td>False</td>\n",
       "      <td>False</td>\n",
       "      <td>False</td>\n",
       "      <td>False</td>\n",
       "      <td>False</td>\n",
       "      <td>False</td>\n",
       "    </tr>\n",
       "  </tbody>\n",
       "</table>\n",
       "<p>1018 rows × 11 columns</p>\n",
       "</div>"
      ],
      "text/plain": [
       "      Area_Name   Year  Group_Name  Sub_Group_Name  Victims_Above_50_Yrs  \\\n",
       "0         False  False       False           False                  True   \n",
       "1         False  False       False           False                 False   \n",
       "2         False  False       False           False                 False   \n",
       "3         False  False       False           False                 False   \n",
       "4         False  False       False           False                 False   \n",
       "...         ...    ...         ...             ...                   ...   \n",
       "1013      False  False       False           False                 False   \n",
       "1014      False  False       False           False                 False   \n",
       "1015      False  False       False           False                 False   \n",
       "1016      False  False       False           False                 False   \n",
       "1017      False  False       False           False                 False   \n",
       "\n",
       "      Victims_Total  Victims_Upto_10_15_Yrs  Victims_Upto_10_Yrs  \\\n",
       "0             False                    True                 True   \n",
       "1             False                   False                False   \n",
       "2             False                   False                False   \n",
       "3             False                   False                False   \n",
       "4             False                   False                False   \n",
       "...             ...                     ...                  ...   \n",
       "1013          False                   False                False   \n",
       "1014          False                   False                False   \n",
       "1015          False                   False                False   \n",
       "1016          False                   False                 True   \n",
       "1017          False                   False                False   \n",
       "\n",
       "      Victims_Upto_15_18_Yrs  Victims_Upto_18_30_Yrs  Victims_Upto_30_50_Yrs  \n",
       "0                       True                   False                   False  \n",
       "1                      False                   False                   False  \n",
       "2                      False                   False                   False  \n",
       "3                      False                   False                   False  \n",
       "4                      False                   False                   False  \n",
       "...                      ...                     ...                     ...  \n",
       "1013                   False                   False                   False  \n",
       "1014                   False                   False                   False  \n",
       "1015                   False                   False                   False  \n",
       "1016                   False                   False                   False  \n",
       "1017                   False                   False                   False  \n",
       "\n",
       "[1018 rows x 11 columns]"
      ]
     },
     "execution_count": 34,
     "metadata": {},
     "output_type": "execute_result"
    }
   ],
   "source": [
    "vic_murder_df.isnull()"
   ]
  },
  {
   "cell_type": "code",
   "execution_count": 35,
   "id": "palestinian-romantic",
   "metadata": {},
   "outputs": [
    {
     "data": {
      "text/plain": [
       "Area_Name                   0\n",
       "Year                        0\n",
       "Group_Name                  0\n",
       "Sub_Group_Name              0\n",
       "Victims_Above_50_Yrs       56\n",
       "Victims_Total               0\n",
       "Victims_Upto_10_15_Yrs    142\n",
       "Victims_Upto_10_Yrs       118\n",
       "Victims_Upto_15_18_Yrs    130\n",
       "Victims_Upto_18_30_Yrs      9\n",
       "Victims_Upto_30_50_Yrs     11\n",
       "dtype: int64"
      ]
     },
     "execution_count": 35,
     "metadata": {},
     "output_type": "execute_result"
    }
   ],
   "source": [
    "vic_murder_df.isnull().sum()"
   ]
  },
  {
   "cell_type": "code",
   "execution_count": null,
   "id": "innovative-workplace",
   "metadata": {},
   "outputs": [],
   "source": [
    "df=vic_murder_df"
   ]
  },
  {
   "cell_type": "code",
   "execution_count": 7,
   "id": "scientific-terrorist",
   "metadata": {},
   "outputs": [
    {
     "data": {
      "text/plain": [
       "Text(0, 0.5, 'No of Victims')"
      ]
     },
     "execution_count": 7,
     "metadata": {},
     "output_type": "execute_result"
    },
    {
     "data": {
      "image/png": "[encoded data removed]",
      "text/plain": [
       "<Figure size 432x288 with 1 Axes>"
      ]
     },
     "metadata": {
      "needs_background": "light"
     },
     "output_type": "display_data"
    }
   ],
   "source": [
    "#Selecting data for Delhi, for the year- 2010\n",
    "\n",
    "mah_murder_df=vic_murder_df.loc[vic_murder_df['Area_Name']=='Delhi']\n",
    "mah_murder_2010_total = mah_murder_df [(mah_murder_df['Year']==2010) & (mah_murder_df['Sub_Group_Name']=='1. Male Victims')]\n",
    "ax = mah_murder_2010_total [['Victims_Upto_10_Yrs','Victims_Upto_10_15_Yrs','Victims_Upto_15_18_Yrs','Victims_Upto_18_30_Yrs','Victims_Upto_30_50_Yrs','Victims_Above_50_Yrs']].plot(kind='bar',title='Age of Male Murder Victims (Delhi)',legend=True)\n",
    "ax.set_xlabel(\"Age \", fontsize=12)\n",
    "ax.set_ylabel(\"No of Victims\", fontsize=12)"
   ]
  },
  {
   "cell_type": "code",
   "execution_count": 8,
   "id": "sacred-annex",
   "metadata": {},
   "outputs": [
    {
     "data": {
      "text/plain": [
       "Text(0, 0.5, 'No of Victims')"
      ]
     },
     "execution_count": 8,
     "metadata": {},
     "output_type": "execute_result"
    },
    {
     "data": {
      "image/png": "[encoded data removed]",
      "text/plain": [
       "<Figure size 432x288 with 1 Axes>"
      ]
     },
     "metadata": {
      "needs_background": "light"
     },
     "output_type": "display_data"
    }
   ],
   "source": [
    "mah_murder_df=vic_murder_df.loc[vic_murder_df['Area_Name']=='Delhi']\n",
    "\n",
    "mah_murder_2010_total = mah_murder_df [(mah_murder_df['Year']==2010) & (mah_murder_df['Sub_Group_Name']=='2. Female Victims')]\n",
    "ax = mah_murder_2010_total [['Victims_Upto_10_Yrs','Victims_Upto_10_15_Yrs','Victims_Upto_15_18_Yrs','Victims_Upto_18_30_Yrs','Victims_Upto_30_50_Yrs','Victims_Above_50_Yrs']].plot(kind='bar',title='Age of Male Murder Victims (Delhi)',legend=True)\n",
    "ax.set_xlabel(\"Age \", fontsize=12)\n",
    "ax.set_ylabel(\"No of Victims\", fontsize=12)"
   ]
  },
  {
   "cell_type": "code",
   "execution_count": 24,
   "id": "desirable-japanese",
   "metadata": {},
   "outputs": [
    {
     "data": {
      "image/png": "[encoded data removed]",
      "text/plain": [
       "<Figure size 1080x1080 with 1 Axes>"
      ]
     },
     "metadata": {
      "needs_background": "light"
     },
     "output_type": "display_data"
    }
   ],
   "source": [
    "vic_murd_2002_total = vic_murder_df[(vic_murder_df['Year']==2002) & (vic_murder_df['Sub_Group_Name']== '3. Total')]\n",
    "vic_murd_2009_total = vic_murder_df[(vic_murder_df['Year']==2009) & (vic_murder_df['Sub_Group_Name']== '3. Total')]\n",
    "df1 = vic_murd_2002_total[['Area_Name','Victims_Total']]\n",
    "df2 = vic_murd_2009_total[['Area_Name','Victims_Total']]\n",
    "df1 ['Total no of murder victims (2002)'] = df1 ['Victims_Total']\n",
    "df2 ['Total no of murder victims (2009)'] = df2 ['Victims_Total']\n",
    "df1.drop(['Victims_Total'], axis = 1, inplace = True)\n",
    "df2.drop(['Victims_Total'], axis = 1, inplace = True)\n",
    "fig = plt.figure()\n",
    "ax = fig.add_subplot(111) # Create matplotlib axes\n",
    "\n",
    "width = 0.4\n",
    "\n",
    "df1.plot(kind='barh', color='red', ax=ax, width=width, position=0,figsize=(15,15))\n",
    "df2.plot(kind='barh', color='blue', ax=ax, width=width, position=1,figsize=(15,15))\n",
    "ax.set_xlabel(\"Number of Victims\", fontsize=15)\n",
    "ax.set_yticklabels(df1['Area_Name'])\n",
    "\n",
    "plt.show()"
   ]
  },
  {
   "cell_type": "code",
   "execution_count": 25,
   "id": "cardiovascular-encounter",
   "metadata": {},
   "outputs": [
    {
     "data": {
      "text/plain": [
       "Text(0.5, 0, 'Age of Female Victims')"
      ]
     },
     "execution_count": 25,
     "metadata": {},
     "output_type": "execute_result"
    },
    {
     "data": {
      "image/png": "[encoded data removed]",
      "text/plain": [
       "<Figure size 432x288 with 1 Axes>"
      ]
     },
     "metadata": {
      "needs_background": "light"
     },
     "output_type": "display_data"
    }
   ],
   "source": [
    "murF_vic=vic_murder_df.loc[vic_murder_df['Area_Name']=='Uttar Pradesh']\n",
    "murF_vic_2002_total = murF_vic [(murF_vic['Year']==2002) & (murF_vic['Sub_Group_Name']=='2. Female Victims')]\n",
    "\n",
    "ax = murF_vic_2002_total[['Victims_Upto_10_Yrs','Victims_Upto_10_15_Yrs','Victims_Upto_15_18_Yrs','Victims_Upto_18_30_Yrs','Victims_Upto_30_50_Yrs','Victims_Above_50_Yrs']].plot(kind='bar',legend=True, title = 'Age murder female victims (Uttar Pradesh)')\n",
    "ax.set_ylabel(\"No of Victims\", fontsize=12)\n",
    "ax.set_xlabel(\"Age of Female Victims\", fontsize=12)"
   ]
  },
  {
   "cell_type": "code",
   "execution_count": 26,
   "id": "earned-consciousness",
   "metadata": {},
   "outputs": [
    {
     "data": {
      "text/plain": [
       "Text(0.5, 0, 'Age of Male Victims')"
      ]
     },
     "execution_count": 26,
     "metadata": {},
     "output_type": "execute_result"
    },
    {
     "data": {
      "image/png": "[encoded data removed]",
      "text/plain": [
       "<Figure size 432x288 with 1 Axes>"
      ]
     },
     "metadata": {
      "needs_background": "light"
     },
     "output_type": "display_data"
    }
   ],
   "source": [
    "murF_vic=vic_murder_df.loc[vic_murder_df['Area_Name']=='Uttar Pradesh']\n",
    "murF_vic_2002_total = murF_vic [(murF_vic['Year']==2002) & (murF_vic['Sub_Group_Name']=='1. Male Victims')]\n",
    "\n",
    "ax = murF_vic_2002_total[['Victims_Upto_10_Yrs','Victims_Upto_10_15_Yrs','Victims_Upto_15_18_Yrs','Victims_Upto_18_30_Yrs','Victims_Upto_30_50_Yrs','Victims_Above_50_Yrs']].plot(kind='bar',legend=True, title = 'Age murder Male victims (Uttar pradesh)')\n",
    "ax.set_ylabel(\"No of Victims\", fontsize=12)\n",
    "ax.set_xlabel(\"Age of Male Victims\", fontsize=12)"
   ]
  },
  {
   "cell_type": "code",
   "execution_count": null,
   "id": "institutional-fleet",
   "metadata": {},
   "outputs": [],
   "source": []
  }
 ],
 "metadata": {
  "kernelspec": {
   "display_name": "Python 3",
   "language": "python",
   "name": "python3"
  },
  "language_info": {
   "codemirror_mode": {
    "name": "ipython",
    "version": 3
   },
   "file_extension": ".py",
   "mimetype": "text/x-python",
   "name": "python",
   "nbconvert_exporter": "python",
   "pygments_lexer": "ipython3",
   "version": "3.7.3"
  }
 },
 "nbformat": 4,
 "nbformat_minor": 5
}
